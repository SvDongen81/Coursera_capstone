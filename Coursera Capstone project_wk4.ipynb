{
    "cells": [
        {
            "cell_type": "markdown",
            "metadata": {
                "collapsed": true
            },
            "source": "# Introduction, Bussines problem"
        },
        {
            "cell_type": "markdown",
            "metadata": {},
            "source": "In this project i will compare all capitals from around the world with regards to their bussinesses. The capitals will be ordered according to their bussinesses. I want to find out if this ordering will be more reflective of the continent in which a city is located.\n\nThis can be helpfull for anyone looking for international bussiness opportunities. Someone who has has succesfull bussines ventures in one Capital might concentrate his next adventures in cities within the same cluster, so as to make good use of his cultural experiences."
        },
        {
            "cell_type": "markdown",
            "metadata": {},
            "source": "# Data"
        },
        {
            "cell_type": "markdown",
            "metadata": {},
            "source": "The data for the bussinesses comes from 4square, this is a service where users contribute to the database. A downside of this is that there will be data missing from countries where 4sqaure is less popular or where people are overall less inclined to use digital services. However, we only need the comparative frequency of different venues and there is no reason to think that those frequencies will be affected by those problems.\nThe coordinates of the capitals comes from the website http://techslides.com/list-of-countries-and-capitals"
        }
    ],
    "metadata": {
        "kernelspec": {
            "display_name": "Python 3.6",
            "language": "python",
            "name": "python3"
        },
        "language_info": {
            "codemirror_mode": {
                "name": "ipython",
                "version": 3
            },
            "file_extension": ".py",
            "mimetype": "text/x-python",
            "name": "python",
            "nbconvert_exporter": "python",
            "pygments_lexer": "ipython3",
            "version": "3.6.8"
        }
    },
    "nbformat": 4,
    "nbformat_minor": 1
}